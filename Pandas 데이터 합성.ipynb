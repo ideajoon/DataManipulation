{
 "cells": [
  {
   "cell_type": "markdown",
   "metadata": {
    "school_cell_uuid": "56fb11bfe061477fb2eba7a810de3ca1"
   },
   "source": [
    "# 연습 문제 1\n",
    "\n",
    "#### 두 개의 데이터프레임을 만들고 merge 명령으로 합친다. 단 데이터프레임은 다음 조건을 만족해야 한다.\n",
    "#### 1.각각 5 x 5 이상의 크기를 가진다."
   ]
  },
  {
   "cell_type": "code",
   "execution_count": 19,
   "metadata": {
    "collapsed": false,
    "school_cell_uuid": "04ab491d46704a0ab8a36f83b97d047f"
   },
   "outputs": [
    {
     "data": {
      "text/html": [
       "<div>\n",
       "<table border=\"1\" class=\"dataframe\">\n",
       "  <thead>\n",
       "    <tr style=\"text-align: right;\">\n",
       "      <th></th>\n",
       "      <th>Name</th>\n",
       "      <th>Segment</th>\n",
       "      <th>Engine</th>\n",
       "      <th>Fuel</th>\n",
       "      <th>Price</th>\n",
       "    </tr>\n",
       "  </thead>\n",
       "  <tbody>\n",
       "    <tr>\n",
       "      <th>0</th>\n",
       "      <td>Morning</td>\n",
       "      <td>Mini</td>\n",
       "      <td>1.0L</td>\n",
       "      <td>14km</td>\n",
       "      <td>1000</td>\n",
       "    </tr>\n",
       "    <tr>\n",
       "      <th>1</th>\n",
       "      <td>K3</td>\n",
       "      <td>Small</td>\n",
       "      <td>1.6</td>\n",
       "      <td>18km</td>\n",
       "      <td>2000</td>\n",
       "    </tr>\n",
       "    <tr>\n",
       "      <th>2</th>\n",
       "      <td>K5</td>\n",
       "      <td>Mid</td>\n",
       "      <td>2.0</td>\n",
       "      <td>16km</td>\n",
       "      <td>3000</td>\n",
       "    </tr>\n",
       "    <tr>\n",
       "      <th>3</th>\n",
       "      <td>K8</td>\n",
       "      <td>Sport</td>\n",
       "      <td>3.0</td>\n",
       "      <td>12km</td>\n",
       "      <td>4000</td>\n",
       "    </tr>\n",
       "    <tr>\n",
       "      <th>4</th>\n",
       "      <td>K9</td>\n",
       "      <td>Large</td>\n",
       "      <td>5.0</td>\n",
       "      <td>10km</td>\n",
       "      <td>5000</td>\n",
       "    </tr>\n",
       "  </tbody>\n",
       "</table>\n",
       "</div>"
      ],
      "text/plain": [
       "      Name Segment Engine  Fuel  Price\n",
       "0  Morning    Mini   1.0L  14km   1000\n",
       "1       K3   Small    1.6  18km   2000\n",
       "2       K5     Mid    2.0  16km   3000\n",
       "3       K8   Sport    3.0  12km   4000\n",
       "4       K9   Large    5.0  10km   5000"
      ]
     },
     "execution_count": 19,
     "metadata": {},
     "output_type": "execute_result"
    }
   ],
   "source": [
    "df1 = pd.DataFrame({\n",
    "    'Name' : ['Morning', 'K3', 'K5', 'K8', 'K9'],\n",
    "    'Segment' : ['Mini', 'Small', 'Mid', 'Sport', 'Large'],\n",
    "    'Engine' : ['1.0L', '1.6', '2.0', '3.0', '5.0'],\n",
    "    'Fuel' : ['14km', '18km', '16km', '12km', '10km'],\n",
    "    'Price' : [1000, 2000, 3000, 4000, 5000]},\n",
    "    columns = [\"Name\", \"Segment\", \"Engine\", \"Fuel\", \"Price\"])\n",
    "df1"
   ]
  },
  {
   "cell_type": "code",
   "execution_count": 17,
   "metadata": {
    "collapsed": false,
    "school_cell_uuid": "e903f509c301479bb606c3cc12090287"
   },
   "outputs": [
    {
     "data": {
      "text/html": [
       "<div>\n",
       "<table border=\"1\" class=\"dataframe\">\n",
       "  <thead>\n",
       "    <tr style=\"text-align: right;\">\n",
       "      <th></th>\n",
       "      <th>이름</th>\n",
       "      <th>출시년도</th>\n",
       "      <th>연료</th>\n",
       "      <th>마력</th>\n",
       "      <th>탑승인원</th>\n",
       "    </tr>\n",
       "  </thead>\n",
       "  <tbody>\n",
       "    <tr>\n",
       "      <th>0</th>\n",
       "      <td>Morning</td>\n",
       "      <td>2000</td>\n",
       "      <td>휘발유</td>\n",
       "      <td>50</td>\n",
       "      <td>4</td>\n",
       "    </tr>\n",
       "    <tr>\n",
       "      <th>1</th>\n",
       "      <td>K3</td>\n",
       "      <td>2005</td>\n",
       "      <td>경유</td>\n",
       "      <td>100</td>\n",
       "      <td>5</td>\n",
       "    </tr>\n",
       "    <tr>\n",
       "      <th>2</th>\n",
       "      <td>K5</td>\n",
       "      <td>2005</td>\n",
       "      <td>경유</td>\n",
       "      <td>150</td>\n",
       "      <td>5</td>\n",
       "    </tr>\n",
       "    <tr>\n",
       "      <th>3</th>\n",
       "      <td>K8</td>\n",
       "      <td>2016</td>\n",
       "      <td>휘발유</td>\n",
       "      <td>250</td>\n",
       "      <td>4</td>\n",
       "    </tr>\n",
       "    <tr>\n",
       "      <th>4</th>\n",
       "      <td>K9</td>\n",
       "      <td>2010</td>\n",
       "      <td>휘발유</td>\n",
       "      <td>300</td>\n",
       "      <td>4</td>\n",
       "    </tr>\n",
       "  </tbody>\n",
       "</table>\n",
       "</div>"
      ],
      "text/plain": [
       "        이름  출시년도   연료   마력  탑승인원\n",
       "0  Morning  2000  휘발유   50     4\n",
       "1       K3  2005   경유  100     5\n",
       "2       K5  2005   경유  150     5\n",
       "3       K8  2016  휘발유  250     4\n",
       "4       K9  2010  휘발유  300     4"
      ]
     },
     "execution_count": 17,
     "metadata": {},
     "output_type": "execute_result"
    }
   ],
   "source": [
    "df2 = pd.DataFrame({\n",
    "    '이름' : ['Morning', 'K3', 'K5', 'K8', 'K9'],\n",
    "    '출시년도' : ['2000', '2005', '2005', '2016', '2010'],\n",
    "    '연료' : ['휘발유', '경유', '경유', '휘발유', '휘발유'],\n",
    "    '마력' : [50, 100, 150, 250, 300],\n",
    "    '탑승인원' : [4, 5, 5, 4, 4]},\n",
    "    columns = [\"이름\", \"출시년도\", \"연료\", \"마력\", \"탑승인원\"])\n",
    "df2"
   ]
  },
  {
   "cell_type": "markdown",
   "metadata": {
    "school_cell_uuid": "c5ba825dbb794124ae6396cbf24f848c"
   },
   "source": [
    "#### 2.공통 열을 하나 이상 가진다. 다만 공통 열의 이름은 서로 다르다."
   ]
  },
  {
   "cell_type": "code",
   "execution_count": 21,
   "metadata": {
    "collapsed": false,
    "school_cell_uuid": "6c03e60ad60849cda651114b3bb813de"
   },
   "outputs": [
    {
     "data": {
      "text/html": [
       "<div>\n",
       "<table border=\"1\" class=\"dataframe\">\n",
       "  <thead>\n",
       "    <tr style=\"text-align: right;\">\n",
       "      <th></th>\n",
       "      <th>Name</th>\n",
       "      <th>Segment</th>\n",
       "      <th>Engine</th>\n",
       "      <th>Fuel</th>\n",
       "      <th>Price</th>\n",
       "      <th>이름</th>\n",
       "      <th>출시년도</th>\n",
       "      <th>연료</th>\n",
       "      <th>마력</th>\n",
       "      <th>탑승인원</th>\n",
       "    </tr>\n",
       "  </thead>\n",
       "  <tbody>\n",
       "    <tr>\n",
       "      <th>0</th>\n",
       "      <td>Morning</td>\n",
       "      <td>Mini</td>\n",
       "      <td>1.0L</td>\n",
       "      <td>14km</td>\n",
       "      <td>1000</td>\n",
       "      <td>Morning</td>\n",
       "      <td>2000</td>\n",
       "      <td>휘발유</td>\n",
       "      <td>50</td>\n",
       "      <td>4</td>\n",
       "    </tr>\n",
       "    <tr>\n",
       "      <th>1</th>\n",
       "      <td>K3</td>\n",
       "      <td>Small</td>\n",
       "      <td>1.6</td>\n",
       "      <td>18km</td>\n",
       "      <td>2000</td>\n",
       "      <td>K3</td>\n",
       "      <td>2005</td>\n",
       "      <td>경유</td>\n",
       "      <td>100</td>\n",
       "      <td>5</td>\n",
       "    </tr>\n",
       "    <tr>\n",
       "      <th>2</th>\n",
       "      <td>K5</td>\n",
       "      <td>Mid</td>\n",
       "      <td>2.0</td>\n",
       "      <td>16km</td>\n",
       "      <td>3000</td>\n",
       "      <td>K5</td>\n",
       "      <td>2005</td>\n",
       "      <td>경유</td>\n",
       "      <td>150</td>\n",
       "      <td>5</td>\n",
       "    </tr>\n",
       "    <tr>\n",
       "      <th>3</th>\n",
       "      <td>K8</td>\n",
       "      <td>Sport</td>\n",
       "      <td>3.0</td>\n",
       "      <td>12km</td>\n",
       "      <td>4000</td>\n",
       "      <td>K8</td>\n",
       "      <td>2016</td>\n",
       "      <td>휘발유</td>\n",
       "      <td>250</td>\n",
       "      <td>4</td>\n",
       "    </tr>\n",
       "    <tr>\n",
       "      <th>4</th>\n",
       "      <td>K9</td>\n",
       "      <td>Large</td>\n",
       "      <td>5.0</td>\n",
       "      <td>10km</td>\n",
       "      <td>5000</td>\n",
       "      <td>K9</td>\n",
       "      <td>2010</td>\n",
       "      <td>휘발유</td>\n",
       "      <td>300</td>\n",
       "      <td>4</td>\n",
       "    </tr>\n",
       "  </tbody>\n",
       "</table>\n",
       "</div>"
      ],
      "text/plain": [
       "      Name Segment Engine  Fuel  Price       이름  출시년도   연료   마력  탑승인원\n",
       "0  Morning    Mini   1.0L  14km   1000  Morning  2000  휘발유   50     4\n",
       "1       K3   Small    1.6  18km   2000       K3  2005   경유  100     5\n",
       "2       K5     Mid    2.0  16km   3000       K5  2005   경유  150     5\n",
       "3       K8   Sport    3.0  12km   4000       K8  2016  휘발유  250     4\n",
       "4       K9   Large    5.0  10km   5000       K9  2010  휘발유  300     4"
      ]
     },
     "execution_count": 21,
     "metadata": {},
     "output_type": "execute_result"
    }
   ],
   "source": [
    "pd.merge(df1, df2, left_on='Name', right_on='이름')"
   ]
  },
  {
   "cell_type": "markdown",
   "metadata": {
    "school_cell_uuid": "c28cb3d2ae5341d7be81ae50dee349fe"
   },
   "source": [
    "# 연습 문제 2\n",
    "\n",
    "#### 어느 회사의 전반기(1월 ~ 6월) 실적을 나타내는 데이터프레임과 후반기(7월 ~ 12월) 실적을 나타내는 데이터프레임을 만든 뒤 합친다. 실적 정보는 \"매출\", \"비용\", \"이익\" 으로 이루어진다. (이익 = 매출 - 비용).\n",
    "\n",
    "#### 또한 1년간의 총 실적을 마지막 행으로 덧붙인다\n"
   ]
  },
  {
   "cell_type": "markdown",
   "metadata": {
    "school_cell_uuid": "b5a971de74b44aad86eb6b23f377f617"
   },
   "source": [
    "##### 전반기 손익(1~6)"
   ]
  },
  {
   "cell_type": "code",
   "execution_count": 23,
   "metadata": {
    "collapsed": false,
    "school_cell_uuid": "8649c4ccf88b4aa7a6b4be092f0ec044"
   },
   "outputs": [
    {
     "data": {
      "text/html": [
       "<div>\n",
       "<table border=\"1\" class=\"dataframe\">\n",
       "  <thead>\n",
       "    <tr style=\"text-align: right;\">\n",
       "      <th></th>\n",
       "      <th>매출</th>\n",
       "      <th>비용</th>\n",
       "      <th>이익</th>\n",
       "    </tr>\n",
       "  </thead>\n",
       "  <tbody>\n",
       "    <tr>\n",
       "      <th>1월</th>\n",
       "      <td>1000</td>\n",
       "      <td>1500</td>\n",
       "      <td>-500</td>\n",
       "    </tr>\n",
       "    <tr>\n",
       "      <th>2월</th>\n",
       "      <td>1500</td>\n",
       "      <td>2000</td>\n",
       "      <td>-500</td>\n",
       "    </tr>\n",
       "    <tr>\n",
       "      <th>3월</th>\n",
       "      <td>3000</td>\n",
       "      <td>2500</td>\n",
       "      <td>500</td>\n",
       "    </tr>\n",
       "    <tr>\n",
       "      <th>4월</th>\n",
       "      <td>4000</td>\n",
       "      <td>2700</td>\n",
       "      <td>1300</td>\n",
       "    </tr>\n",
       "    <tr>\n",
       "      <th>5월</th>\n",
       "      <td>5000</td>\n",
       "      <td>3000</td>\n",
       "      <td>2000</td>\n",
       "    </tr>\n",
       "    <tr>\n",
       "      <th>6월</th>\n",
       "      <td>6000</td>\n",
       "      <td>3200</td>\n",
       "      <td>2800</td>\n",
       "    </tr>\n",
       "  </tbody>\n",
       "</table>\n",
       "</div>"
      ],
      "text/plain": [
       "      매출    비용    이익\n",
       "1월  1000  1500  -500\n",
       "2월  1500  2000  -500\n",
       "3월  3000  2500   500\n",
       "4월  4000  2700  1300\n",
       "5월  5000  3000  2000\n",
       "6월  6000  3200  2800"
      ]
     },
     "execution_count": 23,
     "metadata": {},
     "output_type": "execute_result"
    }
   ],
   "source": [
    "profit1 = {'매출' : [1000, 1500, 3000, 4000, 5000, 6000],\n",
    "        '비용' : [1500, 2000, 2500, 2700, 3000, 3200]}\n",
    "columns1 = ['매출', '비용']\n",
    "index1 = ['1월', '2월', '3월', '4월', '5월', '6월']\n",
    "df1 = pd.DataFrame(profit1, index=index1, columns=columns1)\n",
    "df1['이익'] = df1['매출'] - df1['비용']\n",
    "df1"
   ]
  },
  {
   "cell_type": "markdown",
   "metadata": {
    "school_cell_uuid": "95034b31d5f9483498e92afcd54ddb3e"
   },
   "source": [
    "##### 후반기 손익(7~12)"
   ]
  },
  {
   "cell_type": "code",
   "execution_count": 27,
   "metadata": {
    "collapsed": false,
    "school_cell_uuid": "49dd0ba9458a4708a72c6f7690fd609c"
   },
   "outputs": [
    {
     "data": {
      "text/html": [
       "<div>\n",
       "<table border=\"1\" class=\"dataframe\">\n",
       "  <thead>\n",
       "    <tr style=\"text-align: right;\">\n",
       "      <th></th>\n",
       "      <th>매출</th>\n",
       "      <th>비용</th>\n",
       "      <th>이익</th>\n",
       "    </tr>\n",
       "  </thead>\n",
       "  <tbody>\n",
       "    <tr>\n",
       "      <th>7월</th>\n",
       "      <td>4500</td>\n",
       "      <td>2800</td>\n",
       "      <td>1700</td>\n",
       "    </tr>\n",
       "    <tr>\n",
       "      <th>8월</th>\n",
       "      <td>4000</td>\n",
       "      <td>2700</td>\n",
       "      <td>1300</td>\n",
       "    </tr>\n",
       "    <tr>\n",
       "      <th>9월</th>\n",
       "      <td>5000</td>\n",
       "      <td>3000</td>\n",
       "      <td>2000</td>\n",
       "    </tr>\n",
       "    <tr>\n",
       "      <th>10월</th>\n",
       "      <td>6000</td>\n",
       "      <td>3200</td>\n",
       "      <td>2800</td>\n",
       "    </tr>\n",
       "    <tr>\n",
       "      <th>11월</th>\n",
       "      <td>3000</td>\n",
       "      <td>2500</td>\n",
       "      <td>500</td>\n",
       "    </tr>\n",
       "    <tr>\n",
       "      <th>12월</th>\n",
       "      <td>2000</td>\n",
       "      <td>2000</td>\n",
       "      <td>0</td>\n",
       "    </tr>\n",
       "  </tbody>\n",
       "</table>\n",
       "</div>"
      ],
      "text/plain": [
       "       매출    비용    이익\n",
       "7월   4500  2800  1700\n",
       "8월   4000  2700  1300\n",
       "9월   5000  3000  2000\n",
       "10월  6000  3200  2800\n",
       "11월  3000  2500   500\n",
       "12월  2000  2000     0"
      ]
     },
     "execution_count": 27,
     "metadata": {},
     "output_type": "execute_result"
    }
   ],
   "source": [
    "profit2 = {'매출' : [4500, 4000, 5000, 6000, 3000, 2000],\n",
    "        '비용' : [2800, 2700, 3000, 3200, 2500, 2000]}\n",
    "columns2 = ['매출', '비용']\n",
    "index2 = ['7월', '8월', '9월', '10월', '11월', '12월']\n",
    "df2 = pd.DataFrame(profit2, index=index2, columns=columns2)\n",
    "df2['이익'] = df2['매출'] - df2['비용']\n",
    "df2"
   ]
  },
  {
   "cell_type": "markdown",
   "metadata": {
    "school_cell_uuid": "d366c52ebb2040058f81060fc65b2b0c"
   },
   "source": [
    "#####  결산(1~12)"
   ]
  },
  {
   "cell_type": "code",
   "execution_count": 28,
   "metadata": {
    "collapsed": false,
    "school_cell_uuid": "b4011f26031e4399ba5359271e1ce14d"
   },
   "outputs": [
    {
     "data": {
      "text/html": [
       "<div>\n",
       "<table border=\"1\" class=\"dataframe\">\n",
       "  <thead>\n",
       "    <tr style=\"text-align: right;\">\n",
       "      <th></th>\n",
       "      <th>매출</th>\n",
       "      <th>비용</th>\n",
       "      <th>이익</th>\n",
       "    </tr>\n",
       "  </thead>\n",
       "  <tbody>\n",
       "    <tr>\n",
       "      <th>1월</th>\n",
       "      <td>1000</td>\n",
       "      <td>1500</td>\n",
       "      <td>-500</td>\n",
       "    </tr>\n",
       "    <tr>\n",
       "      <th>2월</th>\n",
       "      <td>1500</td>\n",
       "      <td>2000</td>\n",
       "      <td>-500</td>\n",
       "    </tr>\n",
       "    <tr>\n",
       "      <th>3월</th>\n",
       "      <td>3000</td>\n",
       "      <td>2500</td>\n",
       "      <td>500</td>\n",
       "    </tr>\n",
       "    <tr>\n",
       "      <th>4월</th>\n",
       "      <td>4000</td>\n",
       "      <td>2700</td>\n",
       "      <td>1300</td>\n",
       "    </tr>\n",
       "    <tr>\n",
       "      <th>5월</th>\n",
       "      <td>5000</td>\n",
       "      <td>3000</td>\n",
       "      <td>2000</td>\n",
       "    </tr>\n",
       "    <tr>\n",
       "      <th>6월</th>\n",
       "      <td>6000</td>\n",
       "      <td>3200</td>\n",
       "      <td>2800</td>\n",
       "    </tr>\n",
       "    <tr>\n",
       "      <th>7월</th>\n",
       "      <td>4500</td>\n",
       "      <td>2800</td>\n",
       "      <td>1700</td>\n",
       "    </tr>\n",
       "    <tr>\n",
       "      <th>8월</th>\n",
       "      <td>4000</td>\n",
       "      <td>2700</td>\n",
       "      <td>1300</td>\n",
       "    </tr>\n",
       "    <tr>\n",
       "      <th>9월</th>\n",
       "      <td>5000</td>\n",
       "      <td>3000</td>\n",
       "      <td>2000</td>\n",
       "    </tr>\n",
       "    <tr>\n",
       "      <th>10월</th>\n",
       "      <td>6000</td>\n",
       "      <td>3200</td>\n",
       "      <td>2800</td>\n",
       "    </tr>\n",
       "    <tr>\n",
       "      <th>11월</th>\n",
       "      <td>3000</td>\n",
       "      <td>2500</td>\n",
       "      <td>500</td>\n",
       "    </tr>\n",
       "    <tr>\n",
       "      <th>12월</th>\n",
       "      <td>2000</td>\n",
       "      <td>2000</td>\n",
       "      <td>0</td>\n",
       "    </tr>\n",
       "    <tr>\n",
       "      <th>총실적</th>\n",
       "      <td>45000</td>\n",
       "      <td>31100</td>\n",
       "      <td>13900</td>\n",
       "    </tr>\n",
       "  </tbody>\n",
       "</table>\n",
       "</div>"
      ],
      "text/plain": [
       "        매출     비용     이익\n",
       "1월    1000   1500   -500\n",
       "2월    1500   2000   -500\n",
       "3월    3000   2500    500\n",
       "4월    4000   2700   1300\n",
       "5월    5000   3000   2000\n",
       "6월    6000   3200   2800\n",
       "7월    4500   2800   1700\n",
       "8월    4000   2700   1300\n",
       "9월    5000   3000   2000\n",
       "10월   6000   3200   2800\n",
       "11월   3000   2500    500\n",
       "12월   2000   2000      0\n",
       "총실적  45000  31100  13900"
      ]
     },
     "execution_count": 28,
     "metadata": {},
     "output_type": "execute_result"
    }
   ],
   "source": [
    "df3 = pd.concat([df1, df2])  \n",
    "df3 = pd.concat([df3, pd.DataFrame({'매출': df3['매출'].sum(), '비용': df3['비용'].sum(), '이익': df3['이익'].sum()}, index = ['총실적'])])\n",
    "df3"
   ]
  }
 ],
 "metadata": {
  "kernelspec": {
   "display_name": "Python [conda root]",
   "language": "python",
   "name": "conda-root-py"
  },
  "language_info": {
   "codemirror_mode": {
    "name": "ipython",
    "version": 2
   },
   "file_extension": ".py",
   "mimetype": "text/x-python",
   "name": "python",
   "nbconvert_exporter": "python",
   "pygments_lexer": "ipython2",
   "version": "2.7.13"
  }
 },
 "nbformat": 4,
 "nbformat_minor": 2
}